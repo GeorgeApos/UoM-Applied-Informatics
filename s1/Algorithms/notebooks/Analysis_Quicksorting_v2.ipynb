{
 "cells": [
  {
   "cell_type": "markdown",
   "metadata": {},
   "source": [
    "Quicksorting a given list in Python, while printing each step\n",
    "https://stackoverflow.com/questions/56283221/quicksorting-a-given-list-in-python-while-printing-each-step"
   ]
  },
  {
   "cell_type": "code",
   "execution_count": 6,
   "metadata": {},
   "outputs": [],
   "source": [
    "def quick_sort(lst):\n",
    "    if lst == []:   return []\n",
    "    pivot = lst[0]\n",
    "    left = [x for x in lst[1:] if x < pivot]\n",
    "    right = [x for x in lst[1:] if x > pivot]\n",
    "    print(lst, pivot, \"is pivot\", left, \"and\", right, \"should be sorted\")\n",
    "    new_list = quick_sort(left) + [pivot] + quick_sort(right)\n",
    "    print(\"NEW\", new_list)\n",
    "    return new_list"
   ]
  },
  {
   "cell_type": "code",
   "execution_count": 7,
   "metadata": {},
   "outputs": [
    {
     "name": "stdout",
     "output_type": "stream",
     "text": [
      "[4, 8, 3, 5, 9, 1, 7, 0, 2, 6] 4 is pivot [3, 1, 0, 2] and [8, 5, 9, 7, 6] should be sorted\n",
      "[3, 1, 0, 2] 3 is pivot [1, 0, 2] and [] should be sorted\n",
      "[1, 0, 2] 1 is pivot [0] and [2] should be sorted\n",
      "[0] 0 is pivot [] and [] should be sorted\n",
      "NEW [0]\n",
      "[2] 2 is pivot [] and [] should be sorted\n",
      "NEW [2]\n",
      "NEW [0, 1, 2]\n",
      "NEW [0, 1, 2, 3]\n",
      "[8, 5, 9, 7, 6] 8 is pivot [5, 7, 6] and [9] should be sorted\n",
      "[5, 7, 6] 5 is pivot [] and [7, 6] should be sorted\n",
      "[7, 6] 7 is pivot [6] and [] should be sorted\n",
      "[6] 6 is pivot [] and [] should be sorted\n",
      "NEW [6]\n",
      "NEW [6, 7]\n",
      "NEW [5, 6, 7]\n",
      "[9] 9 is pivot [] and [] should be sorted\n",
      "NEW [9]\n",
      "NEW [5, 6, 7, 8, 9]\n",
      "NEW [0, 1, 2, 3, 4, 5, 6, 7, 8, 9]\n"
     ]
    },
    {
     "data": {
      "text/plain": [
       "[0, 1, 2, 3, 4, 5, 6, 7, 8, 9]"
      ]
     },
     "execution_count": 7,
     "metadata": {},
     "output_type": "execute_result"
    }
   ],
   "source": [
    "quick_sort([4,8,3,5,9,1,7,0,2,6])"
   ]
  },
  {
   "cell_type": "code",
   "execution_count": 8,
   "metadata": {},
   "outputs": [
    {
     "name": "stdout",
     "output_type": "stream",
     "text": [
      "[23, 42, 10, 100, 8, 4, 12, 56, 57, 50] 23 is pivot [10, 8, 4, 12] and [42, 100, 56, 57, 50] should be sorted\n",
      "[10, 8, 4, 12] 10 is pivot [8, 4] and [12] should be sorted\n",
      "[8, 4] 8 is pivot [4] and [] should be sorted\n",
      "[4] 4 is pivot [] and [] should be sorted\n",
      "NEW [4]\n",
      "NEW [4, 8]\n",
      "[12] 12 is pivot [] and [] should be sorted\n",
      "NEW [12]\n",
      "NEW [4, 8, 10, 12]\n",
      "[42, 100, 56, 57, 50] 42 is pivot [] and [100, 56, 57, 50] should be sorted\n",
      "[100, 56, 57, 50] 100 is pivot [56, 57, 50] and [] should be sorted\n",
      "[56, 57, 50] 56 is pivot [50] and [57] should be sorted\n",
      "[50] 50 is pivot [] and [] should be sorted\n",
      "NEW [50]\n",
      "[57] 57 is pivot [] and [] should be sorted\n",
      "NEW [57]\n",
      "NEW [50, 56, 57]\n",
      "NEW [50, 56, 57, 100]\n",
      "NEW [42, 50, 56, 57, 100]\n",
      "NEW [4, 8, 10, 12, 23, 42, 50, 56, 57, 100]\n"
     ]
    },
    {
     "data": {
      "text/plain": [
       "[4, 8, 10, 12, 23, 42, 50, 56, 57, 100]"
      ]
     },
     "execution_count": 8,
     "metadata": {},
     "output_type": "execute_result"
    }
   ],
   "source": [
    "quick_sort([23,42,10,100,8,4,12,56,57,50])"
   ]
  },
  {
   "cell_type": "code",
   "execution_count": 9,
   "metadata": {},
   "outputs": [
    {
     "name": "stdout",
     "output_type": "stream",
     "text": [
      "[1, 20, 11, 5, 2, 9, 16, 14, 13, 19] 1 is pivot [] and [20, 11, 5, 2, 9, 16, 14, 13, 19] should be sorted\n",
      "[20, 11, 5, 2, 9, 16, 14, 13, 19] 20 is pivot [11, 5, 2, 9, 16, 14, 13, 19] and [] should be sorted\n",
      "[11, 5, 2, 9, 16, 14, 13, 19] 11 is pivot [5, 2, 9] and [16, 14, 13, 19] should be sorted\n",
      "[5, 2, 9] 5 is pivot [2] and [9] should be sorted\n",
      "[2] 2 is pivot [] and [] should be sorted\n",
      "NEW [2]\n",
      "[9] 9 is pivot [] and [] should be sorted\n",
      "NEW [9]\n",
      "NEW [2, 5, 9]\n",
      "[16, 14, 13, 19] 16 is pivot [14, 13] and [19] should be sorted\n",
      "[14, 13] 14 is pivot [13] and [] should be sorted\n",
      "[13] 13 is pivot [] and [] should be sorted\n",
      "NEW [13]\n",
      "NEW [13, 14]\n",
      "[19] 19 is pivot [] and [] should be sorted\n",
      "NEW [19]\n",
      "NEW [13, 14, 16, 19]\n",
      "NEW [2, 5, 9, 11, 13, 14, 16, 19]\n",
      "NEW [2, 5, 9, 11, 13, 14, 16, 19, 20]\n",
      "NEW [1, 2, 5, 9, 11, 13, 14, 16, 19, 20]\n"
     ]
    },
    {
     "data": {
      "text/plain": [
       "[1, 2, 5, 9, 11, 13, 14, 16, 19, 20]"
      ]
     },
     "execution_count": 9,
     "metadata": {},
     "output_type": "execute_result"
    }
   ],
   "source": [
    "quick_sort([1, 20, 11, 5, 2, 9, 16, 14, 13, 19])"
   ]
  },
  {
   "cell_type": "code",
   "execution_count": null,
   "metadata": {},
   "outputs": [],
   "source": []
  }
 ],
 "metadata": {
  "kernelspec": {
   "display_name": "Python 3",
   "language": "python",
   "name": "python3"
  },
  "language_info": {
   "codemirror_mode": {
    "name": "ipython",
    "version": 3
   },
   "file_extension": ".py",
   "mimetype": "text/x-python",
   "name": "python",
   "nbconvert_exporter": "python",
   "pygments_lexer": "ipython3",
   "version": "3.6.12"
  }
 },
 "nbformat": 4,
 "nbformat_minor": 4
}
